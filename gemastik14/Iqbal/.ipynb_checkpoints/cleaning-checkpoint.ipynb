{
 "cells": [
  {
   "cell_type": "markdown",
   "id": "77a3e333-5be4-4215-bcd6-1671ea57b648",
   "metadata": {},
   "source": [
    "# **Data Cleaning**"
   ]
  },
  {
   "cell_type": "markdown",
   "id": "9abf3c0e-3ba2-40b0-9822-ef1bd7ce575b",
   "metadata": {},
   "source": [
    "### **Import all Datasets**"
   ]
  },
  {
   "cell_type": "code",
   "execution_count": 1,
   "id": "031dbefe-4da5-4de0-89d1-0a4d7f5db3f3",
   "metadata": {},
   "outputs": [],
   "source": [
    "import pandas as pd\n",
    "import matplotlib.pyplot as plt\n",
    "import numpy as np"
   ]
  },
  {
   "cell_type": "code",
   "execution_count": 3,
   "id": "7201a853-8df5-4381-b0f7-7e5bba4287ca",
   "metadata": {},
   "outputs": [
    {
     "data": {
      "text/html": [
       "<div>\n",
       "<style scoped>\n",
       "    .dataframe tbody tr th:only-of-type {\n",
       "        vertical-align: middle;\n",
       "    }\n",
       "\n",
       "    .dataframe tbody tr th {\n",
       "        vertical-align: top;\n",
       "    }\n",
       "\n",
       "    .dataframe thead th {\n",
       "        text-align: right;\n",
       "    }\n",
       "</style>\n",
       "<table border=\"1\" class=\"dataframe\">\n",
       "  <thead>\n",
       "    <tr style=\"text-align: right;\">\n",
       "      <th></th>\n",
       "      <th>Unnamed: 0</th>\n",
       "      <th>conversation_id</th>\n",
       "      <th>date</th>\n",
       "      <th>tweet</th>\n",
       "      <th>Unnamed: 4</th>\n",
       "      <th>Unnamed: 5</th>\n",
       "      <th>Unnamed: 6</th>\n",
       "      <th>Unnamed: 7</th>\n",
       "      <th>Unnamed: 8</th>\n",
       "      <th>Unnamed: 9</th>\n",
       "      <th>Unnamed: 10</th>\n",
       "      <th>Unnamed: 11</th>\n",
       "      <th>Unnamed: 12</th>\n",
       "      <th>Unnamed: 13</th>\n",
       "      <th>Unnamed: 14</th>\n",
       "      <th>Unnamed: 15</th>\n",
       "      <th>Unnamed: 16</th>\n",
       "    </tr>\n",
       "  </thead>\n",
       "  <tbody>\n",
       "    <tr>\n",
       "      <th>527</th>\n",
       "      <td>527</td>\n",
       "      <td>1.13E+018</td>\n",
       "      <td>2019-05-31 11:51:21</td>\n",
       "      <td>Mudiknya hari H dong pas lebarannya  Enak  mac...</td>\n",
       "      <td>NaN</td>\n",
       "      <td>NaN</td>\n",
       "      <td>NaN</td>\n",
       "      <td>NaN</td>\n",
       "      <td>NaN</td>\n",
       "      <td>NaN</td>\n",
       "      <td>NaN</td>\n",
       "      <td>NaN</td>\n",
       "      <td>NaN</td>\n",
       "      <td>NaN</td>\n",
       "      <td>NaN</td>\n",
       "      <td>NaN</td>\n",
       "      <td>NaN</td>\n",
       "    </tr>\n",
       "    <tr>\n",
       "      <th>959</th>\n",
       "      <td>959</td>\n",
       "      <td>1.29355663747145E+018</td>\n",
       "      <td>2020-08-12 21:35:10</td>\n",
       "      <td>Yang jelas adalah berkurangnya ruang terbuka h...</td>\n",
       "      <td>NaN</td>\n",
       "      <td>NaN</td>\n",
       "      <td>NaN</td>\n",
       "      <td>NaN</td>\n",
       "      <td>NaN</td>\n",
       "      <td>NaN</td>\n",
       "      <td>NaN</td>\n",
       "      <td>NaN</td>\n",
       "      <td>NaN</td>\n",
       "      <td>NaN</td>\n",
       "      <td>NaN</td>\n",
       "      <td>NaN</td>\n",
       "      <td>NaN</td>\n",
       "    </tr>\n",
       "    <tr>\n",
       "      <th>1424</th>\n",
       "      <td>1424</td>\n",
       "      <td>1.12578637903045E+018</td>\n",
       "      <td>2019-05-07 22:36:03</td>\n",
       "      <td>Dibikin dulu kota nya baru ditempatin orangnya...</td>\n",
       "      <td>NaN</td>\n",
       "      <td>NaN</td>\n",
       "      <td>NaN</td>\n",
       "      <td>NaN</td>\n",
       "      <td>NaN</td>\n",
       "      <td>NaN</td>\n",
       "      <td>NaN</td>\n",
       "      <td>NaN</td>\n",
       "      <td>NaN</td>\n",
       "      <td>NaN</td>\n",
       "      <td>NaN</td>\n",
       "      <td>NaN</td>\n",
       "      <td>NaN</td>\n",
       "    </tr>\n",
       "    <tr>\n",
       "      <th>2108</th>\n",
       "      <td>2108</td>\n",
       "      <td>1,24E+18</td>\n",
       "      <td>20/03/2020 19:07</td>\n",
       "      <td>Kalo ada kutu gua taroin hama aja sekalian ni ...</td>\n",
       "      <td>NaN</td>\n",
       "      <td>NaN</td>\n",
       "      <td>NaN</td>\n",
       "      <td>NaN</td>\n",
       "      <td>NaN</td>\n",
       "      <td>NaN</td>\n",
       "      <td>NaN</td>\n",
       "      <td>NaN</td>\n",
       "      <td>NaN</td>\n",
       "      <td>NaN</td>\n",
       "      <td>NaN</td>\n",
       "      <td>NaN</td>\n",
       "      <td>NaN</td>\n",
       "    </tr>\n",
       "    <tr>\n",
       "      <th>2245</th>\n",
       "      <td>2245</td>\n",
       "      <td>1,17E+18</td>\n",
       "      <td>19/09/2019 18:18</td>\n",
       "      <td>Cepat datanglah musim penghujan Biar tersiram ...</td>\n",
       "      <td>NaN</td>\n",
       "      <td>NaN</td>\n",
       "      <td>NaN</td>\n",
       "      <td>NaN</td>\n",
       "      <td>NaN</td>\n",
       "      <td>NaN</td>\n",
       "      <td>NaN</td>\n",
       "      <td>NaN</td>\n",
       "      <td>NaN</td>\n",
       "      <td>NaN</td>\n",
       "      <td>NaN</td>\n",
       "      <td>NaN</td>\n",
       "      <td>NaN</td>\n",
       "    </tr>\n",
       "    <tr>\n",
       "      <th>781</th>\n",
       "      <td>781</td>\n",
       "      <td>1.28E+018</td>\n",
       "      <td>2020-07-09 7:04:41</td>\n",
       "      <td>Skema spt ini belum juga di jamah di indo  kit...</td>\n",
       "      <td>NaN</td>\n",
       "      <td>NaN</td>\n",
       "      <td>NaN</td>\n",
       "      <td>NaN</td>\n",
       "      <td>NaN</td>\n",
       "      <td>NaN</td>\n",
       "      <td>NaN</td>\n",
       "      <td>NaN</td>\n",
       "      <td>NaN</td>\n",
       "      <td>NaN</td>\n",
       "      <td>NaN</td>\n",
       "      <td>NaN</td>\n",
       "      <td>NaN</td>\n",
       "    </tr>\n",
       "    <tr>\n",
       "      <th>1370</th>\n",
       "      <td>1370</td>\n",
       "      <td>1.15142687056017E+018</td>\n",
       "      <td>2019-07-17 16:42:13</td>\n",
       "      <td>belum dari masalah ke per buruh an  konflik la...</td>\n",
       "      <td>NaN</td>\n",
       "      <td>NaN</td>\n",
       "      <td>NaN</td>\n",
       "      <td>NaN</td>\n",
       "      <td>NaN</td>\n",
       "      <td>NaN</td>\n",
       "      <td>NaN</td>\n",
       "      <td>NaN</td>\n",
       "      <td>NaN</td>\n",
       "      <td>NaN</td>\n",
       "      <td>NaN</td>\n",
       "      <td>NaN</td>\n",
       "      <td>NaN</td>\n",
       "    </tr>\n",
       "    <tr>\n",
       "      <th>337</th>\n",
       "      <td>337</td>\n",
       "      <td>1.14E+018</td>\n",
       "      <td>2019-06-18 16:27:35</td>\n",
       "      <td>Kampung nenekku Desa Lengkong tadinya bnyk saw...</td>\n",
       "      <td>NaN</td>\n",
       "      <td>NaN</td>\n",
       "      <td>NaN</td>\n",
       "      <td>NaN</td>\n",
       "      <td>NaN</td>\n",
       "      <td>NaN</td>\n",
       "      <td>NaN</td>\n",
       "      <td>NaN</td>\n",
       "      <td>NaN</td>\n",
       "      <td>NaN</td>\n",
       "      <td>NaN</td>\n",
       "      <td>NaN</td>\n",
       "      <td>NaN</td>\n",
       "    </tr>\n",
       "    <tr>\n",
       "      <th>1072</th>\n",
       "      <td>1072</td>\n",
       "      <td>1.0428381703651E+018</td>\n",
       "      <td>2018-09-21 1:09:29</td>\n",
       "      <td>Hari tani di peringati lahirnya UUPA no   tahu...</td>\n",
       "      <td>NaN</td>\n",
       "      <td>NaN</td>\n",
       "      <td>NaN</td>\n",
       "      <td>NaN</td>\n",
       "      <td>NaN</td>\n",
       "      <td>NaN</td>\n",
       "      <td>NaN</td>\n",
       "      <td>NaN</td>\n",
       "      <td>NaN</td>\n",
       "      <td>NaN</td>\n",
       "      <td>NaN</td>\n",
       "      <td>NaN</td>\n",
       "      <td>NaN</td>\n",
       "    </tr>\n",
       "    <tr>\n",
       "      <th>1967</th>\n",
       "      <td>1967</td>\n",
       "      <td>1,28E+18</td>\n",
       "      <td>25/06/2020 02:26</td>\n",
       "      <td>time intern   bulan tu  aku jumpa ramai orang ...</td>\n",
       "      <td>NaN</td>\n",
       "      <td>NaN</td>\n",
       "      <td>NaN</td>\n",
       "      <td>NaN</td>\n",
       "      <td>NaN</td>\n",
       "      <td>NaN</td>\n",
       "      <td>NaN</td>\n",
       "      <td>NaN</td>\n",
       "      <td>NaN</td>\n",
       "      <td>NaN</td>\n",
       "      <td>NaN</td>\n",
       "      <td>NaN</td>\n",
       "      <td>NaN</td>\n",
       "    </tr>\n",
       "  </tbody>\n",
       "</table>\n",
       "</div>"
      ],
      "text/plain": [
       "      Unnamed: 0        conversation_id                 date  \\\n",
       "527          527              1.13E+018  2019-05-31 11:51:21   \n",
       "959          959  1.29355663747145E+018  2020-08-12 21:35:10   \n",
       "1424        1424  1.12578637903045E+018  2019-05-07 22:36:03   \n",
       "2108        2108               1,24E+18     20/03/2020 19:07   \n",
       "2245        2245               1,17E+18     19/09/2019 18:18   \n",
       "781          781              1.28E+018   2020-07-09 7:04:41   \n",
       "1370        1370  1.15142687056017E+018  2019-07-17 16:42:13   \n",
       "337          337              1.14E+018  2019-06-18 16:27:35   \n",
       "1072        1072   1.0428381703651E+018   2018-09-21 1:09:29   \n",
       "1967        1967               1,28E+18     25/06/2020 02:26   \n",
       "\n",
       "                                                  tweet  Unnamed: 4  \\\n",
       "527   Mudiknya hari H dong pas lebarannya  Enak  mac...         NaN   \n",
       "959   Yang jelas adalah berkurangnya ruang terbuka h...         NaN   \n",
       "1424  Dibikin dulu kota nya baru ditempatin orangnya...         NaN   \n",
       "2108  Kalo ada kutu gua taroin hama aja sekalian ni ...         NaN   \n",
       "2245  Cepat datanglah musim penghujan Biar tersiram ...         NaN   \n",
       "781   Skema spt ini belum juga di jamah di indo  kit...         NaN   \n",
       "1370  belum dari masalah ke per buruh an  konflik la...         NaN   \n",
       "337   Kampung nenekku Desa Lengkong tadinya bnyk saw...         NaN   \n",
       "1072  Hari tani di peringati lahirnya UUPA no   tahu...         NaN   \n",
       "1967  time intern   bulan tu  aku jumpa ramai orang ...         NaN   \n",
       "\n",
       "     Unnamed: 5 Unnamed: 6 Unnamed: 7 Unnamed: 8 Unnamed: 9 Unnamed: 10  \\\n",
       "527         NaN        NaN        NaN        NaN        NaN         NaN   \n",
       "959         NaN        NaN        NaN        NaN        NaN         NaN   \n",
       "1424        NaN        NaN        NaN        NaN        NaN         NaN   \n",
       "2108        NaN        NaN        NaN        NaN        NaN         NaN   \n",
       "2245        NaN        NaN        NaN        NaN        NaN         NaN   \n",
       "781         NaN        NaN        NaN        NaN        NaN         NaN   \n",
       "1370        NaN        NaN        NaN        NaN        NaN         NaN   \n",
       "337         NaN        NaN        NaN        NaN        NaN         NaN   \n",
       "1072        NaN        NaN        NaN        NaN        NaN         NaN   \n",
       "1967        NaN        NaN        NaN        NaN        NaN         NaN   \n",
       "\n",
       "     Unnamed: 11 Unnamed: 12 Unnamed: 13 Unnamed: 14 Unnamed: 15 Unnamed: 16  \n",
       "527          NaN         NaN         NaN         NaN         NaN         NaN  \n",
       "959          NaN         NaN         NaN         NaN         NaN         NaN  \n",
       "1424         NaN         NaN         NaN         NaN         NaN         NaN  \n",
       "2108         NaN         NaN         NaN         NaN         NaN         NaN  \n",
       "2245         NaN         NaN         NaN         NaN         NaN         NaN  \n",
       "781          NaN         NaN         NaN         NaN         NaN         NaN  \n",
       "1370         NaN         NaN         NaN         NaN         NaN         NaN  \n",
       "337          NaN         NaN         NaN         NaN         NaN         NaN  \n",
       "1072         NaN         NaN         NaN         NaN         NaN         NaN  \n",
       "1967         NaN         NaN         NaN         NaN         NaN         NaN  "
      ]
     },
     "execution_count": 3,
     "metadata": {},
     "output_type": "execute_result"
    }
   ],
   "source": [
    "df = pd.read_csv(\"gemastik14.csv\")\n",
    "df.sample(10)"
   ]
  },
  {
   "cell_type": "code",
   "execution_count": 4,
   "id": "caecb8ec-6419-44cc-8108-0379d049ca51",
   "metadata": {},
   "outputs": [],
   "source": [
    "data = df[[\"conversation_id\",\"date\",\"tweet\"]]"
   ]
  },
  {
   "cell_type": "code",
   "execution_count": 5,
   "id": "43370cf3",
   "metadata": {},
   "outputs": [
    {
     "data": {
      "text/html": [
       "<div>\n",
       "<style scoped>\n",
       "    .dataframe tbody tr th:only-of-type {\n",
       "        vertical-align: middle;\n",
       "    }\n",
       "\n",
       "    .dataframe tbody tr th {\n",
       "        vertical-align: top;\n",
       "    }\n",
       "\n",
       "    .dataframe thead th {\n",
       "        text-align: right;\n",
       "    }\n",
       "</style>\n",
       "<table border=\"1\" class=\"dataframe\">\n",
       "  <thead>\n",
       "    <tr style=\"text-align: right;\">\n",
       "      <th></th>\n",
       "      <th>conversation_id</th>\n",
       "      <th>date</th>\n",
       "      <th>tweet</th>\n",
       "    </tr>\n",
       "  </thead>\n",
       "  <tbody>\n",
       "    <tr>\n",
       "      <th>0</th>\n",
       "      <td>1.41E+018</td>\n",
       "      <td>2021-06-24 8:41:03</td>\n",
       "      <td>Di gua udh ga ada sawah  digusur sentraland se...</td>\n",
       "    </tr>\n",
       "    <tr>\n",
       "      <th>1</th>\n",
       "      <td>1.41E+018</td>\n",
       "      <td>2021-06-22 1:05:52</td>\n",
       "      <td>teriak  harga properti mahal  akhirnya sawah d...</td>\n",
       "    </tr>\n",
       "    <tr>\n",
       "      <th>2</th>\n",
       "      <td>1.41E+018</td>\n",
       "      <td>2021-06-18 8:41:56</td>\n",
       "      <td>Gunungnya udah dikeruk  Sawah udah jadi pabrik...</td>\n",
       "    </tr>\n",
       "    <tr>\n",
       "      <th>3</th>\n",
       "      <td>1.41E+018</td>\n",
       "      <td>2021-06-17 20:55:28</td>\n",
       "      <td>Semua sawah akan digusur dinggo mbangun dalan ...</td>\n",
       "    </tr>\n",
       "    <tr>\n",
       "      <th>4</th>\n",
       "      <td>1.41E+018</td>\n",
       "      <td>2021-06-17 19:41:33</td>\n",
       "      <td>Terpikir jg klo fenomena skrg proyek bangunan ...</td>\n",
       "    </tr>\n",
       "  </tbody>\n",
       "</table>\n",
       "</div>"
      ],
      "text/plain": [
       "  conversation_id                 date  \\\n",
       "0       1.41E+018   2021-06-24 8:41:03   \n",
       "1       1.41E+018   2021-06-22 1:05:52   \n",
       "2       1.41E+018   2021-06-18 8:41:56   \n",
       "3       1.41E+018  2021-06-17 20:55:28   \n",
       "4       1.41E+018  2021-06-17 19:41:33   \n",
       "\n",
       "                                               tweet  \n",
       "0  Di gua udh ga ada sawah  digusur sentraland se...  \n",
       "1  teriak  harga properti mahal  akhirnya sawah d...  \n",
       "2  Gunungnya udah dikeruk  Sawah udah jadi pabrik...  \n",
       "3  Semua sawah akan digusur dinggo mbangun dalan ...  \n",
       "4  Terpikir jg klo fenomena skrg proyek bangunan ...  "
      ]
     },
     "execution_count": 5,
     "metadata": {},
     "output_type": "execute_result"
    }
   ],
   "source": [
    "data.head()"
   ]
  },
  {
   "cell_type": "code",
   "execution_count": 4,
   "id": "a6c437a8-44b8-492b-bcfd-be6316119fd6",
   "metadata": {},
   "outputs": [],
   "source": [
    "# Import all datasets\n",
    "slangwords = pd.read_csv(\"all_slangwords.csv\")\n",
    "stopwords = pd.read_csv(\"stopwords.csv\")"
   ]
  },
  {
   "cell_type": "code",
   "execution_count": 5,
   "id": "3069e85d-917e-4761-8814-c3156feb7610",
   "metadata": {},
   "outputs": [
    {
     "data": {
      "text/html": [
       "<div>\n",
       "<style scoped>\n",
       "    .dataframe tbody tr th:only-of-type {\n",
       "        vertical-align: middle;\n",
       "    }\n",
       "\n",
       "    .dataframe tbody tr th {\n",
       "        vertical-align: top;\n",
       "    }\n",
       "\n",
       "    .dataframe thead th {\n",
       "        text-align: right;\n",
       "    }\n",
       "</style>\n",
       "<table border=\"1\" class=\"dataframe\">\n",
       "  <thead>\n",
       "    <tr style=\"text-align: right;\">\n",
       "      <th></th>\n",
       "      <th>old</th>\n",
       "      <th>new</th>\n",
       "    </tr>\n",
       "  </thead>\n",
       "  <tbody>\n",
       "    <tr>\n",
       "      <th>4111</th>\n",
       "      <td>ssemangatpagi</td>\n",
       "      <td>semangat pagi</td>\n",
       "    </tr>\n",
       "    <tr>\n",
       "      <th>12497</th>\n",
       "      <td>dinihari</td>\n",
       "      <td>dini hari</td>\n",
       "    </tr>\n",
       "    <tr>\n",
       "      <th>8605</th>\n",
       "      <td>astaghfirullohal</td>\n",
       "      <td>astagfirullahal</td>\n",
       "    </tr>\n",
       "    <tr>\n",
       "      <th>15132</th>\n",
       "      <td>mempermain</td>\n",
       "      <td>mempermainkan</td>\n",
       "    </tr>\n",
       "    <tr>\n",
       "      <th>15031</th>\n",
       "      <td>mbangun</td>\n",
       "      <td>membangun</td>\n",
       "    </tr>\n",
       "  </tbody>\n",
       "</table>\n",
       "</div>"
      ],
      "text/plain": [
       "                    old              new\n",
       "4111      ssemangatpagi    semangat pagi\n",
       "12497          dinihari        dini hari\n",
       "8605   astaghfirullohal  astagfirullahal\n",
       "15132        mempermain    mempermainkan\n",
       "15031           mbangun        membangun"
      ]
     },
     "execution_count": 5,
     "metadata": {},
     "output_type": "execute_result"
    }
   ],
   "source": [
    "slangwords.sample(5)"
   ]
  },
  {
   "cell_type": "code",
   "execution_count": 6,
   "id": "9b4be988-a5e2-418f-af2d-c4881d06b90e",
   "metadata": {},
   "outputs": [
    {
     "data": {
      "text/html": [
       "<div>\n",
       "<style scoped>\n",
       "    .dataframe tbody tr th:only-of-type {\n",
       "        vertical-align: middle;\n",
       "    }\n",
       "\n",
       "    .dataframe tbody tr th {\n",
       "        vertical-align: top;\n",
       "    }\n",
       "\n",
       "    .dataframe thead th {\n",
       "        text-align: right;\n",
       "    }\n",
       "</style>\n",
       "<table border=\"1\" class=\"dataframe\">\n",
       "  <thead>\n",
       "    <tr style=\"text-align: right;\">\n",
       "      <th></th>\n",
       "      <th>0</th>\n",
       "    </tr>\n",
       "  </thead>\n",
       "  <tbody>\n",
       "    <tr>\n",
       "      <th>545</th>\n",
       "      <td>yang</td>\n",
       "    </tr>\n",
       "    <tr>\n",
       "      <th>148</th>\n",
       "      <td>sebelum</td>\n",
       "    </tr>\n",
       "    <tr>\n",
       "      <th>61</th>\n",
       "      <td>menanti-nanti</td>\n",
       "    </tr>\n",
       "    <tr>\n",
       "      <th>589</th>\n",
       "      <td>bagaimanakah</td>\n",
       "    </tr>\n",
       "    <tr>\n",
       "      <th>688</th>\n",
       "      <td>kasus</td>\n",
       "    </tr>\n",
       "  </tbody>\n",
       "</table>\n",
       "</div>"
      ],
      "text/plain": [
       "                 0\n",
       "545           yang\n",
       "148        sebelum\n",
       "61   menanti-nanti\n",
       "589   bagaimanakah\n",
       "688          kasus"
      ]
     },
     "execution_count": 6,
     "metadata": {},
     "output_type": "execute_result"
    }
   ],
   "source": [
    "stopwords.sample(5)"
   ]
  },
  {
   "cell_type": "code",
   "execution_count": 7,
   "id": "cc287846-bc7f-4f52-8c14-ea2835b63b96",
   "metadata": {},
   "outputs": [],
   "source": [
    "stopwords.fillna(\"\",inplace=True)\n",
    "slangwords.fillna(\"\",inplace=True)"
   ]
  },
  {
   "cell_type": "code",
   "execution_count": 8,
   "id": "3b12291e-4185-4e0b-8621-451a45331a2b",
   "metadata": {},
   "outputs": [
    {
     "data": {
      "text/plain": [
       "['jumlahnya',\n",
       " 'jelaslah',\n",
       " 'secara',\n",
       " 'sejak',\n",
       " 'kita',\n",
       " 'benarkah',\n",
       " 'benarlah',\n",
       " 'segala',\n",
       " 'olehnya',\n",
       " 'mungkin']"
      ]
     },
     "execution_count": 8,
     "metadata": {},
     "output_type": "execute_result"
    }
   ],
   "source": [
    "list_stopwords = stopwords[\"0\"].values.tolist()\n",
    "list_stopwords[:10]"
   ]
  },
  {
   "cell_type": "code",
   "execution_count": 9,
   "id": "3021135c-6947-48b1-9365-ccf228bc6687",
   "metadata": {},
   "outputs": [],
   "source": [
    "# Create dict of slangwords\n",
    "list_old = slangwords[\"old\"]\n",
    "list_new = slangwords[\"new\"]\n",
    "zip_iterator = zip(list_old, list_new)\n",
    "dict_slang = dict(zip_iterator)"
   ]
  },
  {
   "cell_type": "code",
   "execution_count": 10,
   "id": "c7058118-d4d5-4104-b115-54448ee84d70",
   "metadata": {},
   "outputs": [
    {
     "data": {
      "text/plain": [
       "'orang'"
      ]
     },
     "execution_count": 10,
     "metadata": {},
     "output_type": "execute_result"
    }
   ],
   "source": [
    "dict_slang.get(\"org\")"
   ]
  },
  {
   "cell_type": "markdown",
   "id": "d926de37-fdd3-45d6-b2f0-4b345200e0d0",
   "metadata": {},
   "source": [
    "### **Text Cleaning**"
   ]
  },
  {
   "cell_type": "markdown",
   "id": "fe440715-5de3-4cb6-88e0-de1ec555fa1f",
   "metadata": {},
   "source": [
    "#### Phase 1 : remove hashtags, @user, mentions, RT, URL links"
   ]
  },
  {
   "cell_type": "code",
   "execution_count": 11,
   "id": "f34a8f59-88f8-42a8-aeaa-2c7cee27ebf9",
   "metadata": {},
   "outputs": [],
   "source": [
    "import re\n",
    "def phase1(text) :\n",
    "    res = re.sub(\"@\\\\S+\", \"\", text) ## Remove @user\n",
    "    res = re.sub(\"#\\\\S+\", \"\", res) ## Remove hashtags\n",
    "    res = re.sub(\"RT\", \"\", res) ## RT\n",
    "    res = re.sub(r\"http\\S+\", \"\", res) ## Remove URL\n",
    "    return res"
   ]
  },
  {
   "cell_type": "markdown",
   "id": "e05da93c-e56d-4650-ab38-5a62a6db0fb1",
   "metadata": {},
   "source": [
    "#### Phase 2 : remove escape strings"
   ]
  },
  {
   "cell_type": "code",
   "execution_count": 12,
   "id": "dce6b2b5-28cf-483f-b42a-c57543327ef7",
   "metadata": {},
   "outputs": [],
   "source": [
    "def phase2(text):\n",
    "    res = re.sub(r\"\\n|\\t|\\f|\\r\", ' ', text).strip()\n",
    "    return res"
   ]
  },
  {
   "cell_type": "markdown",
   "id": "0a671ac4-353d-4c8a-9d40-7da645d255e9",
   "metadata": {},
   "source": [
    "#### Phase 3 : remove ascii / unicode substring"
   ]
  },
  {
   "cell_type": "code",
   "execution_count": 13,
   "id": "dabe2739-4a95-431f-940b-cc4283cf9cd7",
   "metadata": {},
   "outputs": [],
   "source": [
    "def phase3(text) :\n",
    "    string_encode = text.encode(\"ascii\", \"ignore\").decode()\n",
    "    return string_encode"
   ]
  },
  {
   "cell_type": "markdown",
   "id": "be78bd92-48b8-4fdf-9d12-d0955449e706",
   "metadata": {},
   "source": [
    "#### Phase 4 : remove amp and extra whitespace"
   ]
  },
  {
   "cell_type": "code",
   "execution_count": 14,
   "id": "8451b9c7-1c24-4bf4-8975-9549f49a933b",
   "metadata": {},
   "outputs": [],
   "source": [
    "def phase4(text) :\n",
    "    res = text.lower()\n",
    "    res = re.sub(\"&amp;\", \"\", res)\n",
    "    res = re.sub(\" amp \",\" \",res)\n",
    "    res = re.sub(' +', ' ', res)\n",
    "    res = res.strip()\n",
    "    return res"
   ]
  },
  {
   "cell_type": "markdown",
   "id": "a78741f2-2d17-4763-8bf1-9d3b046b3eaf",
   "metadata": {},
   "source": [
    "#### Phase 5 : Change slang word"
   ]
  },
  {
   "cell_type": "code",
   "execution_count": 15,
   "id": "abd117e1-9224-4abd-ba37-aa875c309bf9",
   "metadata": {},
   "outputs": [],
   "source": [
    "def phase5(text) :\n",
    "    words = text.split()\n",
    "    review = [dict_slang.get(word) if word in list(dict_slang.keys()) else word for word in words]\n",
    "    review = ' '.join(review)\n",
    "    return review"
   ]
  },
  {
   "cell_type": "markdown",
   "id": "64648040-936d-48d8-83bb-eddc7c58bdaa",
   "metadata": {},
   "source": [
    "#### Phase 6 : Remove all symbols"
   ]
  },
  {
   "cell_type": "code",
   "execution_count": 16,
   "id": "8d5617a1-03b9-4bd2-a50a-bc3d2551d81b",
   "metadata": {},
   "outputs": [],
   "source": [
    "def phase6(text) :\n",
    "    res = re.sub(\"(@[A-Za-z0-9]+)|([^0-9A-Za-z \\t])|(\\w+:\\/\\/\\S+)\", \"\",text)\n",
    "    res = ''.join([i for i in res if not i.isdigit()])\n",
    "    words = res.split()\n",
    "    review = [dict_slang.get(word) if word in list(dict_slang.keys()) else word for word in words]\n",
    "    review = ' '.join(review)\n",
    "    return review"
   ]
  },
  {
   "cell_type": "markdown",
   "id": "a4aa3659-6be0-4112-be9a-e30b3e7df41b",
   "metadata": {},
   "source": [
    "#### Phase 7 : Remove words without vowel. ex : wkwkwk"
   ]
  },
  {
   "cell_type": "code",
   "execution_count": 17,
   "id": "e2489f4d-67ed-4b0e-addb-113975f6b71a",
   "metadata": {},
   "outputs": [],
   "source": [
    "vowel = ['a','e','i','o','u']\n",
    "def phase7(text) : \n",
    "    vowset = set(vowel)\n",
    "    list_word =  text.split()\n",
    "    temp = [word for word in list_word if vowset.intersection(word)]\n",
    "    temp = [word for word in temp if word not in vowel]\n",
    "    res = ' '.join(temp)\n",
    "    return res"
   ]
  },
  {
   "cell_type": "markdown",
   "id": "12e04229-7a01-460f-9706-fd298e666600",
   "metadata": {},
   "source": [
    "#### Phase 8 : Remove stopwords"
   ]
  },
  {
   "cell_type": "code",
   "execution_count": 18,
   "id": "7e9d24f0-0a3e-4bb0-adf7-239075d56b84",
   "metadata": {},
   "outputs": [],
   "source": [
    "def phase8(text) :\n",
    "    ## Remove Stopwords\n",
    "    words = text.split()\n",
    "    res = [word for word in words if not word in list_stopwords]\n",
    "    res = \" \".join(res)\n",
    "    return res"
   ]
  },
  {
   "cell_type": "markdown",
   "id": "8790031d-2f36-4960-be15-c7ec9c416e21",
   "metadata": {},
   "source": [
    "#### Apply all phase"
   ]
  },
  {
   "cell_type": "code",
   "execution_count": 19,
   "id": "f4ed7739-6729-4654-a961-53e397167ba9",
   "metadata": {},
   "outputs": [],
   "source": [
    "def all_phase(text) :\n",
    "    res = phase1(text)\n",
    "    res = phase2(res)\n",
    "    res = phase3(res)\n",
    "    res = phase4(res)\n",
    "    res = phase5(res)\n",
    "    res = phase6(res)\n",
    "    res = phase7(res)\n",
    "    res = phase8(res)\n",
    "    return res"
   ]
  },
  {
   "cell_type": "code",
   "execution_count": 20,
   "id": "29e81c41-d351-4838-9afe-fec821be91c9",
   "metadata": {},
   "outputs": [
    {
     "data": {
      "text/plain": [
       "'Kritik yang lebih baik itu mungkin penyusutan lahan pertanian  Itu coba dicek'"
      ]
     },
     "execution_count": 20,
     "metadata": {},
     "output_type": "execute_result"
    }
   ],
   "source": [
    "coba = data.tweet[1132]\n",
    "coba"
   ]
  },
  {
   "cell_type": "code",
   "execution_count": 21,
   "id": "4db006a0-33bd-425f-b6a7-bebb132936ab",
   "metadata": {},
   "outputs": [
    {
     "data": {
      "text/plain": [
       "'kritik penyusutan lahan pertanian coba dicek'"
      ]
     },
     "execution_count": 21,
     "metadata": {},
     "output_type": "execute_result"
    }
   ],
   "source": [
    "res = all_phase(coba)\n",
    "res"
   ]
  },
  {
   "cell_type": "code",
   "execution_count": 22,
   "id": "14570043-c0dd-452c-b9fb-f9b2a153bc6c",
   "metadata": {},
   "outputs": [],
   "source": [
    "corpus = []\n",
    "for i in range(0, len(data)) :\n",
    "    review = data[\"tweet\"][i]\n",
    "    result = all_phase(review)\n",
    "    corpus.append(result)"
   ]
  },
  {
   "cell_type": "code",
   "execution_count": 23,
   "id": "942232a9-dc3e-4b37-8021-735b1b86fda7",
   "metadata": {},
   "outputs": [
    {
     "name": "stderr",
     "output_type": "stream",
     "text": [
      "<ipython-input-23-759c94316b8c>:1: SettingWithCopyWarning: \n",
      "A value is trying to be set on a copy of a slice from a DataFrame.\n",
      "Try using .loc[row_indexer,col_indexer] = value instead\n",
      "\n",
      "See the caveats in the documentation: https://pandas.pydata.org/pandas-docs/stable/user_guide/indexing.html#returning-a-view-versus-a-copy\n",
      "  data[\"tweet\"] = corpus\n"
     ]
    }
   ],
   "source": [
    "data[\"tweet\"] = corpus"
   ]
  },
  {
   "cell_type": "code",
   "execution_count": 24,
   "id": "5b9bc7d9-dad9-4cd2-a7e7-89386a3dbda6",
   "metadata": {},
   "outputs": [
    {
     "name": "stderr",
     "output_type": "stream",
     "text": [
      "<ipython-input-24-3ff2f9ed1495>:1: SettingWithCopyWarning: \n",
      "A value is trying to be set on a copy of a slice from a DataFrame\n",
      "\n",
      "See the caveats in the documentation: https://pandas.pydata.org/pandas-docs/stable/user_guide/indexing.html#returning-a-view-versus-a-copy\n",
      "  data.drop_duplicates(subset=[\"tweet\"],inplace=True)\n"
     ]
    }
   ],
   "source": [
    "data.drop_duplicates(subset=[\"tweet\"],inplace=True)"
   ]
  },
  {
   "cell_type": "code",
   "execution_count": 25,
   "id": "2e9c0869-eb57-4e17-a96e-72c6aaaf95c3",
   "metadata": {},
   "outputs": [],
   "source": [
    "data.to_csv(\"testing.csv\",index=False)"
   ]
  },
  {
   "cell_type": "code",
   "execution_count": null,
   "id": "52f05b37-b149-4c03-8270-2964ccc5d1d4",
   "metadata": {},
   "outputs": [],
   "source": []
  }
 ],
 "metadata": {
  "kernelspec": {
   "display_name": "Python 3",
   "language": "python",
   "name": "python3"
  },
  "language_info": {
   "codemirror_mode": {
    "name": "ipython",
    "version": 3
   },
   "file_extension": ".py",
   "mimetype": "text/x-python",
   "name": "python",
   "nbconvert_exporter": "python",
   "pygments_lexer": "ipython3",
   "version": "3.8.10"
  }
 },
 "nbformat": 4,
 "nbformat_minor": 5
}
